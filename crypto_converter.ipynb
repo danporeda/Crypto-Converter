import pandas as pd
import requests
import json

# Bitcoin Data - USD, EUR, GBP, JPY, CAD, RUB, KRW, PLN
response_BTCUSD = requests.get('https://api.alternative.me/v1/ticker/bitcoin').json()
response_BTCEUR = requests.get('https://api.alternative.me/v1/ticker/bitcoin/?convert=EUR').json()
response_BTCGBP = requests.get('https://api.alternative.me/v1/ticker/bitcoin/?convert=GBP').json()
response_BTCJPY = requests.get('https://api.alternative.me/v1/ticker/bitcoin/?convert=JPY').json()
response_BTCCAD = requests.get('https://api.alternative.me/v1/ticker/bitcoin/?convert=CAD').json()
response_BTCRUB = requests.get('https://api.alternative.me/v1/ticker/bitcoin/?convert=RUB').json()
response_BTCKRW = requests.get('https://api.alternative.me/v1/ticker/bitcoin/?convert=KRW').json()
response_BTCPLN = requests.get('https://api.alternative.me/v1/ticker/bitcoin/?convert=PLN').json()

# Ethereum Data - USD, EUR, GBP, JPY, CAD, RUB, KRW, PLN
response_ETHUSD = requests.get('https://api.alternative.me/v1/ticker/ethereum').json()
response_ETHEUR = requests.get('https://api.alternative.me/v1/ticker/ethereum/?convert=EUR').json()
response_ETHGBP = requests.get('https://api.alternative.me/v1/ticker/ethereum/?convert=GBP').json()
response_ETHJPY = requests.get('https://api.alternative.me/v1/ticker/ethereum/?convert=JPY').json()
response_ETHCAD = requests.get('https://api.alternative.me/v1/ticker/ethereum/?convert=CAD').json()
response_ETHRUB = requests.get('https://api.alternative.me/v1/ticker/ethereum/?convert=RUB').json()
response_ETHKRW = requests.get('https://api.alternative.me/v1/ticker/ethereum/?convert=KRW').json()
response_ETHPLN = requests.get('https://api.alternative.me/v1/ticker/ethereum/?convert=PLN').json()

# Litecoin Data - USD, EUR, GBP, JPY, CAD, RUB, KRW, PLN
response_LTCUSD = requests.get('https://api.alternative.me/v1/ticker/litecoin').json()
response_LTCEUR = requests.get('https://api.alternative.me/v1/ticker/litecoin/?convert=EUR').json()
response_LTCGBP = requests.get('https://api.alternative.me/v1/ticker/litecoin/?convert=GBP').json()
response_LTCJPY = requests.get('https://api.alternative.me/v1/ticker/litecoin/?convert=JPY').json()
response_LTCCAD = requests.get('https://api.alternative.me/v1/ticker/litecoin/?convert=CAD').json()
response_LTCRUB = requests.get('https://api.alternative.me/v1/ticker/litecoin/?convert=RUB').json()
response_LTCKRW = requests.get('https://api.alternative.me/v1/ticker/litecoin/?convert=KRW').json()
response_LTCPLN = requests.get('https://api.alternative.me/v1/ticker/litecoin/?convert=PLN').json()

# Cardano Data - USD, EUR, GBP, JPY, CAD, RUB, KRW, PLN
response_ADAUSD = requests.get('https://api.alternative.me/v1/ticker/cardano').json()
response_ADAEUR = requests.get('https://api.alternative.me/v1/ticker/cardano/?convert=EUR').json()
response_ADAGBP = requests.get('https://api.alternative.me/v1/ticker/cardano/?convert=GBP').json()
response_ADAJPY = requests.get('https://api.alternative.me/v1/ticker/cardano/?convert=JPY').json()
response_ADACAD = requests.get('https://api.alternative.me/v1/ticker/cardano/?convert=CAD').json()
response_ADARUB = requests.get('https://api.alternative.me/v1/ticker/cardano/?convert=RUB').json()
response_ADAKRW = requests.get('https://api.alternative.me/v1/ticker/cardano/?convert=KRW').json()
response_ADAPLN = requests.get('https://api.alternative.me/v1/ticker/cardano/?convert=PLN').json()

# Dogecoin Data - USD, EUR, GBP, JPY, CAD, RUB, KRW, PLN
response_DOGEUSD = requests.get('https://api.alternative.me/v1/ticker/dogecoin').json()
response_DOGEEUR = requests.get('https://api.alternative.me/v1/ticker/dogecoin/?convert=EUR').json()
response_DOGEGBP = requests.get('https://api.alternative.me/v1/ticker/dogecoin/?convert=GBP').json()
response_DOGEJPY = requests.get('https://api.alternative.me/v1/ticker/dogecoin/?convert=JPY').json()
response_DOGECAD = requests.get('https://api.alternative.me/v1/ticker/dogecoin/?convert=CAD').json()
response_DOGERUB = requests.get('https://api.alternative.me/v1/ticker/dogecoin/?convert=RUB').json()
response_DOGEKRW = requests.get('https://api.alternative.me/v1/ticker/dogecoin/?convert=KRW').json()
response_DOGEPLN = requests.get('https://api.alternative.me/v1/ticker/dogecoin/?convert=PLN').json()

# Monero Data - USD, EUR, GBP, JPY, CAD, RUB, KRW, PLN
response_XMRUSD = requests.get('https://api.alternative.me/v1/ticker/monero').json()
response_XMREUR = requests.get('https://api.alternative.me/v1/ticker/monero/?convert=EUR').json()
response_XMRGBP = requests.get('https://api.alternative.me/v1/ticker/monero/?convert=GBP').json()
response_XMRJPY = requests.get('https://api.alternative.me/v1/ticker/monero/?convert=JPY').json()
response_XMRCAD = requests.get('https://api.alternative.me/v1/ticker/monero/?convert=CAD').json()
response_XMRRUB = requests.get('https://api.alternative.me/v1/ticker/monero/?convert=RUB').json()
response_XMRKRW = requests.get('https://api.alternative.me/v1/ticker/monero/?convert=KRW').json()
response_XMRPLN = requests.get('https://api.alternative.me/v1/ticker/monero/?convert=PLN').json()

# Stellar Lumens Data - USD, EUR, GBP, JPY, CAD, RUB, KRW, PLN
response_XLMUSD = requests.get('https://api.alternative.me/v1/ticker/stellar').json()
response_XLMEUR = requests.get('https://api.alternative.me/v1/ticker/stellar/?convert=EUR').json()
response_XLMGBP = requests.get('https://api.alternative.me/v1/ticker/stellar/?convert=GBP').json()
response_XLMJPY = requests.get('https://api.alternative.me/v1/ticker/stellar/?convert=JPY').json()
response_XLMCAD = requests.get('https://api.alternative.me/v1/ticker/stellar/?convert=CAD').json()
response_XLMRUB = requests.get('https://api.alternative.me/v1/ticker/stellar/?convert=RUB').json()
response_XLMKRW = requests.get('https://api.alternative.me/v1/ticker/stellar/?convert=KRW').json()
response_XLMPLN = requests.get('https://api.alternative.me/v1/ticker/stellar/?convert=PLN').json()
    
# Ripple Data - USD, EUR, GBP, JPY, CAD, RUB, KRW, PLN
response_XRPUSD = requests.get('https://api.alternative.me/v1/ticker/ripple').json()
response_XRPEUR = requests.get('https://api.alternative.me/v1/ticker/ripple/?convert=EUR').json()
response_XRPGBP = requests.get('https://api.alternative.me/v1/ticker/ripple/?convert=GBP').json()
response_XRPJPY = requests.get('https://api.alternative.me/v1/ticker/ripple/?convert=JPY').json()
response_XRPCAD = requests.get('https://api.alternative.me/v1/ticker/ripple/?convert=CAD').json()
response_XRPRUB = requests.get('https://api.alternative.me/v1/ticker/ripple/?convert=RUB').json()
response_XRPKRW = requests.get('https://api.alternative.me/v1/ticker/ripple/?convert=KRW').json()
response_XRPPLN = requests.get('https://api.alternative.me/v1/ticker/ripple/?convert=PLN').json()
#Display API contents
print(json.dumps(
    [response_BTCUSD, response_BTCEUR, response_BTCGBP, response_BTCCAD, response_BTCJPY, response_BTCRUB, response_BTCKRW, response_BTCPLN],
    indent=2, sort_keys=True))
[
  [
    {
      "24h_volume_usd": "30301984163",
      "available_supply": "19129418",
      "id": "bitcoin",
      "last_updated": "1661239761",
      "market_cap_usd": "406307667509",
      "max_supply": "21000000",
      "name": "Bitcoin",
      "percent_change_1h": "1.0658202384309800",
      "percent_change_24h": "-0.2782574220576990",
      "percent_change_7d": "-12.3504538934588000",
      "price_btc": "0",
      "price_usd": "21193.0000000000000000",
      "rank": "1",
      "symbol": "BTC",
      "total_supply": "19129418"
    }
  ],
  [
    {
      "24h_volume_eur": "30574702020.467",
      "24h_volume_usd": "30301984163",
      "available_supply": "19129418",
      "id": "bitcoin",
      "last_updated": "1661239761",
      "market_cap_eur": "409964436516.581",
      "market_cap_usd": "406307667509",
      "max_supply": "21000000",
      "name": "Bitcoin",
      "percent_change_1h": "1.0658202384309800",
      "percent_change_24h": "-0.2782574220576990",
      "percent_change_7d": "-12.3504538934588000",
      "price_btc": "0",
      "price_eur": "21383.737",
      "price_usd": "21193.0000000000000000",
      "rank": "1",
      "symbol": "BTC",
      "total_supply": "19129418"
    }
  ],
  [
    {
      "24h_volume_gbp": "25829411300.5413",
      "24h_volume_usd": "30301984163",
      "available_supply": "19129418",
      "id": "bitcoin",
      "last_updated": "1661239761",
      "market_cap_gbp": "346336655784.673",
      "market_cap_usd": "406307667509",
      "max_supply": "21000000",
      "name": "Bitcoin",
      "percent_change_1h": "1.0658202384309800",
      "percent_change_24h": "-0.2782574220576990",
      "percent_change_7d": "-12.3504538934588000",
      "price_btc": "0",
      "price_gbp": "18064.9132000001",
      "price_usd": "21193.0000000000000000",
      "rank": "1",
      "symbol": "BTC",
      "total_supply": "19129418"
    }
  ],
  [
    {
      "24h_volume_cad": "39568330920.0454",
      "24h_volume_usd": "30301984163",
      "available_supply": "19129418",
      "id": "bitcoin",
      "last_updated": "1661239761",
      "market_cap_cad": "530556552233.252",
      "market_cap_usd": "406307667509",
      "max_supply": "21000000",
      "name": "Bitcoin",
      "percent_change_1h": "1.0658202384309800",
      "percent_change_24h": "-0.2782574220576990",
      "percent_change_7d": "-12.3504538934588000",
      "price_btc": "0",
      "price_cad": "27673.8194",
      "price_usd": "21193.0000000000000000",
      "rank": "1",
      "symbol": "BTC",
      "total_supply": "19129418"
    }
  ],
  [
    {
      "24h_volume_jpy": "4156341355733.72",
      "24h_volume_usd": "30301984163",
      "available_supply": "19129418",
      "id": "bitcoin",
      "last_updated": "1661239761",
      "market_cap_jpy": "55730784906204.4",
      "market_cap_usd": "406307667509",
      "max_supply": "21000000",
      "name": "Bitcoin",
      "percent_change_1h": "1.0658202384309800",
      "percent_change_24h": "-0.2782574220576990",
      "percent_change_7d": "-12.3504538934588000",
      "price_btc": "0",
      "price_jpy": "2906916.65199999",
      "price_usd": "21193.0000000000000000",
      "rank": "1",
      "symbol": "BTC",
      "total_supply": "19129418"
    }
  ],
  [
    {
      "24h_volume_rub": "1812816202551.47",
      "24h_volume_usd": "30301984163",
      "available_supply": "19129418",
      "id": "bitcoin",
      "last_updated": "1661239761",
      "market_cap_rub": "24307356208725.9",
      "market_cap_usd": "406307667509",
      "max_supply": "21000000",
      "name": "Bitcoin",
      "percent_change_1h": "1.0658202384309800",
      "percent_change_24h": "-0.2782574220576990",
      "percent_change_7d": "-12.3504538934588000",
      "price_btc": "0",
      "price_rub": "1267871.225",
      "price_usd": "21193.0000000000000000",
      "rank": "1",
      "symbol": "BTC",
      "total_supply": "19129418"
    }
  ],
  [
    {
      "24h_volume_krw": "40788894842128.7",
      "24h_volume_usd": "30301984163",
      "available_supply": "19129418",
      "id": "bitcoin",
      "last_updated": "1661239761",
      "market_cap_krw": "546922625080484",
      "market_cap_usd": "406307667509",
      "max_supply": "21000000",
      "name": "Bitcoin",
      "percent_change_1h": "1.0658202384309800",
      "percent_change_24h": "-0.2782574220576990",
      "percent_change_7d": "-12.3504538934588000",
      "price_btc": "0",
      "price_krw": "28527473.4399984",
      "price_usd": "21193.0000000000000000",
      "rank": "1",
      "symbol": "BTC",
      "total_supply": "19129418"
    }
  ],
  [
    {
      "24h_volume_pln": "145807087395.523",
      "24h_volume_usd": "30301984163",
      "available_supply": "19129418",
      "id": "bitcoin",
      "last_updated": "1661239761",
      "market_cap_pln": "1955071234519.8",
      "market_cap_usd": "406307667509",
      "max_supply": "21000000",
      "name": "Bitcoin",
      "percent_change_1h": "1.0658202384309800",
      "percent_change_24h": "-0.2782574220576990",
      "percent_change_7d": "-12.3504538934588000",
      "price_btc": "0",
      "price_pln": "101976.4774",
      "price_usd": "21193.0000000000000000",
      "rank": "1",
      "symbol": "BTC",
      "total_supply": "19129418"
    }
  ]
]
#slice values for BTC-fiat variables
btc_usd = float(response_BTCUSD[0]['price_usd'])
btc_eur = float(response_BTCEUR[0]['price_eur'])
btc_gbp = float(response_BTCGBP[0]['price_gbp'])
btc_cad = float(response_BTCCAD[0]['price_cad'])
btc_jpy = float(response_BTCJPY[0]['price_jpy'])
btc_rub = float(response_BTCRUB[0]['price_rub'])
btc_krw = float(response_BTCKRW[0]['price_krw'])
btc_pln = float(response_BTCPLN[0]['price_pln'])

#calculate for fiat-BTC variables
usd_btc = 1 / btc_usd
eur_btc = 1 / btc_eur
gbp_btc = 1 / btc_gbp
cad_btc = 1 / btc_cad
jpy_btc = 1 / btc_jpy
rub_btc = 1 / btc_rub
krw_btc = 1 / btc_krw
pln_btc = 1 / btc_pln
#Display
print(f'\u20BF1 = ${btc_usd:.2f}')
print(f'\u20BF1 = \u20AC{btc_eur:.2f}')
print(f'\u20BF1 = \u00A3{btc_gbp:.2f}')
print(f'\u20BF1 = C${btc_cad:.2f}')
print(f'\u20BF1 = \u00A5{btc_jpy:.2f}')
print(f'\u20BF1 = \u20BD{btc_rub:.2f}')
print(f'\u20BF1 = \u20A9{btc_krw:.2f}')
print(f'\u20BF1 = \u0142{btc_pln:.2f}')
print()
print(f'$1 = \u20BF{usd_btc:.10f}')
print(f'\u20AC1 = \u20BF{eur_btc:.10f}')
print(f'\u00A31 = \u20BF{gbp_btc:.10f}')
print(f'C$1 = \u20BF{cad_btc:.10f}')
print(f'\u00A51 = \u20BF{jpy_btc:.10f}')
print(f'\u20BD1 = \u20BF{rub_btc:.10f}')
print(f'\u20A91 = \u20BF{krw_btc:.10f}')
print(f'\u01421 = \u20BF{pln_btc:.10f}')
₿1 = $21193.00
₿1 = €21383.74
₿1 = £18064.91
₿1 = C$27673.82
₿1 = ¥2906916.65
₿1 = ₽1267871.23
₿1 = ₩28527473.44
₿1 = ł101976.48

$1 = ₿0.0000471854
€1 = ₿0.0000467645
£1 = ₿0.0000553559
C$1 = ₿0.0000361352
¥1 = ₿0.0000003440
₽1 = ₿0.0000007887
₩1 = ₿0.0000000351
ł1 = ₿0.0000098062
#slice values for ETH-fiat variables
eth_usd = float(response_ETHUSD[0]['price_usd'])
eth_eur = float(response_ETHEUR[0]['price_eur'])
eth_gbp = float(response_ETHGBP[0]['price_gbp'])
eth_cad = float(response_ETHCAD[0]['price_cad'])
eth_jpy = float(response_ETHJPY[0]['price_jpy'])
eth_rub = float(response_ETHRUB[0]['price_rub'])
eth_krw = float(response_ETHKRW[0]['price_krw'])
eth_pln = float(response_ETHPLN[0]['price_pln'])

#calculate for fiat-ETH variables
usd_eth = 1 / eth_usd
eur_eth = 1 / eth_eur
gbp_eth = 1 / eth_gbp
cad_eth = 1 / eth_cad
jpy_eth = 1 / eth_jpy
rub_eth = 1 / eth_rub
krw_eth = 1 / eth_krw
pln_eth = 1 / eth_pln
#Display
print(f'\u039E1 = ${eth_usd:.2f}')
print(f'\u039E1 = \u20AC{eth_eur:.2f}')
print(f'\u039E1 = \u00A31{eth_gbp:.2f}')
print(f'\u039E1 = C${eth_cad:.2f}')
print(f'\u039E1 = \u00A51{eth_jpy:.2f}')
print(f'\u039E1 = \u20BD{eth_rub:.2f}')
print(f'\u039E1 = \u20A9{eth_krw:.2f}')
print(f'\u039E1 = \u0142{eth_pln:.2f}')
print()
print(f'$1 = \u039E{usd_eth:.10f}')
print(f'\u20AC1 = \u039E{eur_eth:.10f}')
print(f'\u00A31 = \u039E{gbp_eth:.10f}')
print(f'C$1 = \u039E{cad_eth:.10f}')
print(f'\u00A51 = \u039E{jpy_eth:.10f}')
print(f'\u20BD1 = \u039E{rub_eth:.10f}')
print(f'\u20A91 = \u039E{krw_eth:.10f}')
print(f'\u01421 = \u039E{pln_eth:.10f}')
Ξ1 = $1592.03
Ξ1 = €1606.36
Ξ1 = £11357.05
Ξ1 = C$2078.87
Ξ1 = ¥1218369.20
Ξ1 = ₽95243.19
Ξ1 = ₩2142999.74
Ξ1 = ł7660.53

$1 = Ξ0.0006281289
€1 = Ξ0.0006225261
£1 = Ξ0.0007368945
C$1 = Ξ0.0004810299
¥1 = Ξ0.0000045794
₽1 = Ξ0.0000104994
₩1 = Ξ0.0000004666
ł1 = Ξ0.0001305393
#slice values for LTC-fiat variables
ltc_usd = float(response_LTCUSD[0]['price_usd'])
ltc_eur = float(response_LTCEUR[0]['price_eur'])
ltc_gbp = float(response_LTCGBP[0]['price_gbp'])
ltc_cad = float(response_LTCCAD[0]['price_cad'])
ltc_jpy = float(response_LTCJPY[0]['price_jpy'])
ltc_rub = float(response_LTCRUB[0]['price_rub'])
ltc_krw = float(response_LTCKRW[0]['price_krw'])
ltc_pln = float(response_LTCPLN[0]['price_pln'])

#calculate for fiat-LTC variables
usd_ltc = 1 / ltc_usd
eur_ltc = 1 / ltc_eur
gbp_ltc = 1 / ltc_gbp
cad_ltc = 1 / ltc_cad
jpy_ltc = 1 / ltc_jpy
rub_ltc = 1 / ltc_rub
krw_ltc = 1 / ltc_krw
pln_ltc = 1 / ltc_pln
#Display
print(f'\u01411 = ${ltc_usd:.2f}')
print(f'\u01411 = \u20AC{ltc_eur:.2f}')
print(f'\u01411 = \u00A31{ltc_gbp:.2f}')
print(f'\u01411 = C${ltc_cad:.2f}')
print(f'\u01411 = \u00A51{ltc_jpy:.2f}')
print(f'\u01411 = \u20BD{ltc_rub:.2f}')
print(f'\u01411 = \u20A9{ltc_krw:.2f}')
print(f'\u01411 = \u0142{ltc_pln:.2f}')
print()
print(f'$1 = \u0141{usd_ltc:.10f}')
print(f'\u20AC1 = \u0141{eur_ltc:.10f}')
print(f'\u00A31 = \u0141{gbp_ltc:.10f}')
print(f'C$1 = \u0141{cad_ltc:.10f}')
print(f'\u00A51 = \u0141{jpy_ltc:.10f}')
print(f'\u20BD1 = \u0141{rub_ltc:.10f}')
print(f'\u20A91 = \u0141{krw_ltc:.10f}')
print(f'\u01421 = \u0141{pln_ltc:.10f}')
Ł1 = $55.16
Ł1 = €55.66
Ł1 = £147.02
Ł1 = C$72.03
Ł1 = ¥17565.97
Ł1 = ₽3299.95
Ł1 = ₩74249.77
Ł1 = ł265.42

$1 = Ł0.0181290790
€1 = Ł0.0179673727
£1 = Ł0.0212682767
C$1 = Ł0.0138835036
¥1 = Ł0.0001321708
₽1 = Ł0.0003030352
₩1 = Ł0.0000134681
ł1 = Ł0.0037676294
#slice values for ADA-fiat variables
ada_usd = float(response_ADAUSD[0]['price_usd'])
ada_eur = float(response_ADAEUR[0]['price_eur'])
ada_gbp = float(response_ADAGBP[0]['price_gbp'])
ada_cad = float(response_ADACAD[0]['price_cad'])
ada_jpy = float(response_ADAJPY[0]['price_jpy'])
ada_rub = float(response_ADARUB[0]['price_rub'])
ada_krw = float(response_ADAKRW[0]['price_krw'])
ada_pln = float(response_ADAPLN[0]['price_pln'])

#calculate for fiat-ADA variables
usd_ada = 1 / ada_usd
eur_ada = 1 / ada_eur
gbp_ada = 1 / ada_gbp
cad_ada = 1 / ada_cad
jpy_ada = 1 / ada_jpy
rub_ada = 1 / ada_rub
krw_ada = 1 / ada_krw
pln_ada = 1 / ada_pln
#Display
print(f'\u20B31 = ${ada_usd:.2f}')
print(f'\u20B31 = \u20AC{ada_eur:.2f}')
print(f'\u20B31 = \u00A31{ada_gbp:.2f}')
print(f'\u20B31 = C${ada_cad:.2f}')
print(f'\u20B31 = \u00A51{ada_jpy:.2f}')
print(f'\u20B31 = \u20BD{ada_rub:.2f}')
print(f'\u20B31 = \u20A9{ada_krw:.2f}')
print(f'\u20B31 = \u0142{ada_pln:.2f}')
print()
print(f'$1 = \u20B3{usd_ada:.10f}')
print(f'\u20AC1 = \u20B3{eur_ada:.10f}')
print(f'\u00A31 = \u20B3{gbp_ada:.10f}')
print(f'C$1 = \u20B3{cad_ada:.10f}')
print(f'\u00A51 = \u20B3{jpy_ada:.10f}')
print(f'\u20BD1 = \u20B3{rub_ada:.10f}')
print(f'\u20A91 = \u20B3{krw_ada:.10f}')
print(f'\u01421 = \u20B3{pln_ada:.10f}')
₳1 = $0.45
₳1 = €0.46
₳1 = £10.39
₳1 = C$0.59
₳1 = ¥162.40
₳1 = ₽27.22
₳1 = ₩612.38
₳1 = ł2.19

$1 = ₳2.1981065510
€1 = ₳2.1785000506
£1 = ₳2.5787265967
C$1 = ₳1.6833409029
¥1 = ₳0.0160253897
₽1 = ₳0.0367422741
₩1 = ₳0.0016329687
ł1 = ₳0.4568158591
#slice values for DOGE-fiat variables
doge_usd = float(response_DOGEUSD[0]['price_usd'])
doge_eur = float(response_DOGEEUR[0]['price_eur'])
doge_gbp = float(response_DOGEGBP[0]['price_gbp'])
doge_cad = float(response_DOGECAD[0]['price_cad'])
doge_jpy = float(response_DOGEJPY[0]['price_jpy'])
doge_rub = float(response_DOGERUB[0]['price_rub'])
doge_krw = float(response_DOGEKRW[0]['price_krw'])
doge_pln = float(response_DOGEPLN[0]['price_pln'])

#calculate for fiat-DOGE variables
usd_doge = 1 / doge_usd
eur_doge = 1 / doge_eur
gbp_doge = 1 / doge_gbp
cad_doge = 1 / doge_cad
jpy_doge = 1 / doge_jpy
rub_doge = 1 / doge_rub
krw_doge = 1 / doge_krw
pln_doge = 1 / doge_pln
#Display
print(f'\u00D01 = ${doge_usd:.2f}')
print(f'\u00D01 = \u20AC{doge_eur:.2f}')
print(f'\u00D01 = \u00A31{doge_gbp:.2f}')
print(f'\u00D01 = C${doge_cad:.2f}')
print(f'\u00D01 = \u00A51{doge_jpy:.2f}')
print(f'\u00D01 = \u20BD{doge_rub:.2f}')
print(f'\u00D01 = \u20A9{doge_krw:.2f}')
print(f'\u00D01 = \u0142{doge_pln:.2f}')
print()
print(f'$1 = \u00d0{usd_doge:.10f}')
print(f'\u20AC1 = \u00D0{eur_doge:.10f}')
print(f'\u00A31 = \u00D0{gbp_doge:.10f}')
print(f'C$1 = \u00D0{cad_doge:.10f}')
print(f'\u00A51 = \u00D0{jpy_doge:.10f}')
print(f'\u20BD1 = \u00D0{rub_doge:.10f}')
print(f'\u20A91 = \u00D0{krw_doge:.10f}')
print(f'\u01421 = \u00D0{pln_doge:.10f}')
Ð1 = $0.07
Ð1 = €0.07
Ð1 = £10.06
Ð1 = C$0.09
Ð1 = ¥19.31
Ð1 = ₽4.06
Ð1 = ₩91.36
Ð1 = ł0.33

$1 = Ð14.7331820727
€1 = Ð14.6017661771
£1 = Ð17.2843525020
C$1 = Ð11.2828779849
¥1 = Ð0.1074128931
₽1 = Ð0.2462713259
₩1 = Ð0.0109452500
ł1 = Ð3.0618857959
#slice values for XMR-fiat variables
xmr_usd = float(response_XMRUSD[0]['price_usd'])
xmr_eur = float(response_XMREUR[0]['price_eur'])
xmr_gbp = float(response_XMRGBP[0]['price_gbp'])
xmr_cad = float(response_XMRCAD[0]['price_cad'])
xmr_jpy = float(response_XMRJPY[0]['price_jpy'])
xmr_rub = float(response_XMRRUB[0]['price_rub'])
xmr_krw = float(response_XMRKRW[0]['price_krw'])
xmr_pln = float(response_XMRPLN[0]['price_pln'])

#calculate for fiat-XMR variables
usd_xmr = 1 / xmr_usd
eur_xmr = 1 / xmr_eur
gbp_xmr = 1 / xmr_gbp
cad_xmr = 1 / xmr_cad
jpy_xmr = 1 / xmr_jpy
rub_xmr = 1 / xmr_rub
krw_xmr = 1 / xmr_krw
pln_xmr = 1 / xmr_pln
#Display
print(f'\u02711 = ${xmr_usd:.2f}')
print(f'\u02711 = \u20AC{xmr_eur:.2f}')
print(f'\u02711 = \u00A31{xmr_gbp:.2f}')
print(f'\u02711 = C${xmr_cad:.2f}')
print(f'\u02711 = \u00A51{xmr_jpy:.2f}')
print(f'\u02711 = \u20BD{xmr_rub:.2f}')
print(f'\u02711 = \u20A9{xmr_krw:.2f}')
print(f'\u02711 = \u0142{xmr_pln:.2f}')
print()
print(f'$1 = \u0271{usd_xmr:.10f}')
print(f'\u20AC1 = \u0271{eur_xmr:.10f}')
print(f'\u00A31 = \u0271{gbp_xmr:.10f}')
print(f'C$1 = \u0271{cad_xmr:.10f}')
print(f'\u00A51 = \u0271{jpy_xmr:.10f}')
print(f'\u20BD1 = \u0271{rub_xmr:.10f}')
print(f'\u20A91 = \u0271{krw_xmr:.10f}')
print(f'\u01421 = \u0271{pln_xmr:.10f}')
ɱ1 = $152.96
ɱ1 = €154.34
ɱ1 = £1130.38
ɱ1 = C$199.74
ɱ1 = ¥120980.61
ɱ1 = ₽9150.83
ɱ1 = ₩205896.40
ɱ1 = ł736.01

$1 = ɱ0.0065376569
€1 = ɱ0.0064793428
£1 = ɱ0.0076697054
C$1 = ɱ0.0050066296
¥1 = ɱ0.0000476631
₽1 = ɱ0.0001092797
₩1 = ɱ0.0000048568
ł1 = ɱ0.0013586718
#slice values for XLM-fiat variables
xlm_usd = float(response_XLMUSD[0]['price_usd'])
xlm_eur = float(response_XLMEUR[0]['price_eur'])
xlm_gbp = float(response_XLMGBP[0]['price_gbp'])
xlm_cad = float(response_XLMCAD[0]['price_cad'])
xlm_jpy = float(response_XLMJPY[0]['price_jpy'])
xlm_rub = float(response_XLMRUB[0]['price_rub'])
xlm_krw = float(response_XLMKRW[0]['price_krw'])
xlm_pln = float(response_XLMPLN[0]['price_pln'])

#calculate for fiat-XLM variables
usd_xlm = 1 / xlm_usd
eur_xlm = 1 / xlm_eur
gbp_xlm = 1 / xlm_gbp
cad_xlm = 1 / xlm_cad
jpy_xlm = 1 / xlm_jpy
rub_xlm = 1 / xlm_rub
krw_xlm = 1 / xlm_krw
pln_xlm = 1 / xlm_pln
#Display
print(f'\u002A1 = ${xlm_usd:.2f}')
print(f'\u002A1 = \u20AC{xlm_eur:.2f}')
print(f'\u002A1 = \u00A31{xlm_gbp:.2f}')
print(f'\u002A1 = C${xlm_cad:.2f}')
print(f'\u002A1 = \u00A51{xlm_jpy:.2f}')
print(f'\u002A1 = \u20BD{xlm_rub:.2f}')
print(f'\u002A1 = \u20A9{xlm_krw:.2f}')
print(f'\u002A1 = \u0142{xlm_pln:.2f}')
print()
print(f'$1 = \u002A{usd_xlm:.10f}')
print(f'\u20AC1 = \u002A{eur_xlm:.10f}')
print(f'\u00A31 = \u002A{gbp_xlm:.10f}')
print(f'C$1 = \u002A{cad_xlm:.10f}')
print(f'\u00A51 = \u002A{jpy_xlm:.10f}')
print(f'\u20BD1 = \u002A{rub_xlm:.10f}')
print(f'\u20A91 = \u002A{krw_xlm:.10f}')
print(f'\u01421 = \u002A{pln_xlm:.10f}')
*1 = $0.11
*1 = €0.11
*1 = £10.09
*1 = C$0.14
*1 = ¥114.88
*1 = ₽6.49
*1 = ₩145.99
*1 = ł0.52

$1 = *9.2201589555
€1 = *9.1379176963
£1 = *10.8167045466
C$1 = *7.0609273668
¥1 = *0.0672199626
₽1 = *0.1541188292
₩1 = *0.0068496367
ł1 = *1.9161558992
#slice values for XRP-fiat variables
xrp_usd = float(response_XRPUSD[0]['price_usd'])
xrp_eur = float(response_XRPEUR[0]['price_eur'])
xrp_gbp = float(response_XRPGBP[0]['price_gbp'])
xrp_cad = float(response_XRPCAD[0]['price_cad'])
xrp_jpy = float(response_XRPJPY[0]['price_jpy'])
xrp_rub = float(response_XRPRUB[0]['price_rub'])
xrp_krw = float(response_XRPKRW[0]['price_krw'])
xrp_pln = float(response_XRPPLN[0]['price_pln'])

#calculate for fiat-XRP variables
usd_xrp = 1 / xrp_usd
eur_xrp = 1 / xrp_eur
gbp_xrp = 1 / xrp_gbp
cad_xrp = 1 / xrp_cad
jpy_xrp = 1 / xrp_jpy
rub_xrp = 1 / xrp_rub
krw_xrp = 1 / xrp_krw
pln_xrp = 1 / xrp_pln
#Display
print(f'\u27151 = ${xrp_usd:.2f}')
print(f'\u27151 = \u20AC{xrp_eur:.2f}')
print(f'\u27151 = \u00A31{xrp_gbp:.2f}')
print(f'\u27151 = C${xrp_cad:.2f}')
print(f'\u27151 = \u00A51{xrp_jpy:.2f}')
print(f'\u27151 = \u20BD{xrp_rub:.2f}')
print(f'\u27151 = \u20A9{xrp_krw:.2f}')
print(f'\u27151 = \u0142{xrp_pln:.2f}')
print()
print(f'$1 = \u2715{usd_xrp:.10f}')
print(f'\u20AC1 = \u2715{eur_xrp:.10f}')
print(f'\u00A31 = \u2715{gbp_xrp:.10f}')
print(f'C$1 = \u2715{cad_xrp:.10f}')
print(f'\u00A51 = \u2715{jpy_xrp:.10f}')
print(f'\u20BD1 = \u2715{rub_xrp:.10f}')
print(f'\u20A91 = \u2715{krw_xrp:.10f}')
print(f'\u01421 = \u2715{pln_xrp:.10f}')
✕1 = $0.34
✕1 = €0.34
✕1 = £10.29
✕1 = C$0.44
✕1 = ¥146.08
✕1 = ₽20.10
✕1 = ₩452.23
✕1 = ł1.62

$1 = ✕2.9765093879
€1 = ✕2.9499597502
£1 = ✕3.4919162223
C$1 = ✕2.2794527400
¥1 = ✕0.0217003688
₽1 = ✕0.0497536045
₩1 = ✕0.0022112426
ł1 = ✕0.6185854333
 
